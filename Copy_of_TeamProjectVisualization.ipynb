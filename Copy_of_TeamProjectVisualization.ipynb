{
  "nbformat": 4,
  "nbformat_minor": 0,
  "metadata": {
    "colab": {
      "name": "Copy of TeamProjectVisualization.ipynb",
      "provenance": [],
      "collapsed_sections": [],
      "include_colab_link": true
    },
    "kernelspec": {
      "name": "python3",
      "display_name": "Python 3"
    }
  },
  "cells": [
    {
      "cell_type": "markdown",
      "metadata": {
        "id": "view-in-github",
        "colab_type": "text"
      },
      "source": [
        "<a href=\"https://colab.research.google.com/github/Cjh6116/FinalLab/blob/master/Copy_of_TeamProjectVisualization.ipynb\" target=\"_parent\"><img src=\"https://colab.research.google.com/assets/colab-badge.svg\" alt=\"Open In Colab\"/></a>"
      ]
    },
    {
      "cell_type": "markdown",
      "metadata": {
        "id": "Kw5PZBtl0Ob6",
        "colab_type": "text"
      },
      "source": [
        "# Case Study Project"
      ]
    },
    {
      "cell_type": "markdown",
      "metadata": {
        "id": "iXWAmSVB0Rno",
        "colab_type": "text"
      },
      "source": [
        "Contributors:\n",
        "\n",
        "\n",
        "*   Nate Eyster\n",
        "*   Casey Heilig\n",
        "*   Nick Hughes\n",
        "\n",
        "\n",
        "\n"
      ]
    },
    {
      "cell_type": "markdown",
      "metadata": {
        "id": "WpaW-i5l0ZHn",
        "colab_type": "text"
      },
      "source": [
        "## Background"
      ]
    },
    {
      "cell_type": "markdown",
      "metadata": {
        "id": "E4VKsOvP0eev",
        "colab_type": "text"
      },
      "source": [
        "For this project we will be looking at data concerning Penn State football statistics. In particular we will be trying to find which Penn State football coach had the most successful football career as well as what decade was Penn State’s most successful for football. Each of our data sources contains the necessary information so that we are able to see which coaches had the most successful years, as well as other various information that is helpful. We’re mainly focusing on the win/loss ratio and the year in which the season was played. The other data at our disposal includes statistics such as bowl games. Our main goal though is to isolate data that shows what coach was most successful over the years which is why we are focusing on win percentage as it is the easiest to identify a pattern for. The main difference between most coaches off the bat however is that some coached for longer than others."
      ]
    },
    {
      "cell_type": "markdown",
      "metadata": {
        "id": "7d8vfcGufV0_",
        "colab_type": "text"
      },
      "source": [
        "### Goal"
      ]
    },
    {
      "cell_type": "markdown",
      "metadata": {
        "id": "e1jKSGTjfY2H",
        "colab_type": "text"
      },
      "source": [
        "Our goal is to find out which Penn State Coach had the most successful football career.  We would also like to see what decade had the most success for Penn State win wise.  "
      ]
    },
    {
      "cell_type": "markdown",
      "metadata": {
        "id": "GOxy_TvCfi54",
        "colab_type": "text"
      },
      "source": [
        "### Assumptions"
      ]
    },
    {
      "cell_type": "markdown",
      "metadata": {
        "id": "cw1v_1MMfnAR",
        "colab_type": "text"
      },
      "source": [
        "Insert 10 assumptions for your data model:\n",
        "*   Assumption: Penn State's shortest reigning head coach had the worst win record.\n",
        "*   Assumption: Penn State's longest reigning coach has the best win record.\n",
        "*   Assumption: The coaches with the most bowl wins have the most regular season wins. \n",
        "*   Assumption: Penn State's overall Big Ten record is better then their independent record.\n",
        "*   Assumption: The coach who averaged the highest strength of schedule score had the worst season record.\n",
        "* Assumption: The coach with the most Post AP Poll rankings has the best record.\n",
        "* Assumption: Team who had the best win/loss percentage, has the coach with most bowl wins.\n",
        "* Assumption: The coach with the most bowl appearances has the best Win/Loss percentage overall.\n",
        "* Assumption: The older the year is, the better the record is for Penn State.\n",
        "* Assumption: The team's that are more recent in age have the better win/loss percentage.\n"
      ]
    },
    {
      "cell_type": "markdown",
      "metadata": {
        "id": "jKGILpu7gWr6",
        "colab_type": "text"
      },
      "source": [
        "### Data Sources"
      ]
    },
    {
      "cell_type": "markdown",
      "metadata": {
        "id": "uwCao7AtgbNn",
        "colab_type": "text"
      },
      "source": [
        "We decided to use two different data sources from the same site.  We choose to do this because of how hard it is to find data sets on Penn State football, and because we thought the data sets we found were very useful for achieving our goal.  These two data sets would have been perfect for our doing any case study on Penn State football.  One source has all the records and stats for each year Penn State played football.  It includes who coached, win and loss percentage, bowl appearances, and other useful stats we could use.  This data set will be perfect for comparing statistics of every coach, and it can also be used to see for case studies of any individual year.  The other source includes individual player stats for quarterbacks.  We are able to see what years the starting quarterbacks played, how many yards they passed in their career, how many rushing touchdowns they had in their career, and other stats that relate to the quarterback position.  This data set would be useful to compare quarterback statistics between each other to see who had the most successful football career at Penn State. However, the data set we plan to use the most will be the overall history data set.  This is because our goal is to focus on the coaches of Penn State’s history, and we want to compare stats between all the coaches to see where they were more successful at.  So, we decided to keep the data sets separate since we saw no need to have the statistics for the quarterbacks included with our other data set.  There isn’t really any connections that could be used to support our goal of finding the most successful football coach and decade of football at Penn State.\n"
      ]
    },
    {
      "cell_type": "markdown",
      "metadata": {
        "id": "kDgSdoQUgg2Z",
        "colab_type": "text"
      },
      "source": [
        "#### Sources"
      ]
    },
    {
      "cell_type": "markdown",
      "metadata": {
        "id": "dFzYIi0Agi2_",
        "colab_type": "text"
      },
      "source": [
        "Sports Reference: Penn State Stat History and Passing History\n",
        "\n",
        "https://www.sports-reference.com/cfb/schools/penn-state/\n",
        "\n",
        "https://www.sports-reference.com/cfb/schools/penn-state/passing.html "
      ]
    },
    {
      "cell_type": "markdown",
      "metadata": {
        "id": "qcFak2v7g3jt",
        "colab_type": "text"
      },
      "source": [
        "## Dashboard (5)"
      ]
    },
    {
      "cell_type": "code",
      "metadata": {
        "id": "knG79vNP0Q0u",
        "colab_type": "code",
        "outputId": "4fcbeda2-aa51-433f-94d9-c9e6c5f3a04d",
        "colab": {
          "base_uri": "https://localhost:8080/",
          "height": 644
        }
      },
      "source": [
        "import IPython\n",
        "IPython.display.HTML(\"<div class='tableauPlaceholder' id='viz1587935369211' style='position: relative'><noscript><a href='#'><img alt=' ' src='https:&#47;&#47;public.tableau.com&#47;static&#47;images&#47;Fi&#47;Final_Coach&#47;Sheet1&#47;1_rss.png' style='border: none' /></a></noscript><object class='tableauViz'  style='display:none;'><param name='host_url' value='https%3A%2F%2Fpublic.tableau.com%2F' /> <param name='embed_code_version' value='3' /> <param name='site_root' value='' /><param name='name' value='Final_Coach&#47;Sheet1' /><param name='tabs' value='no' /><param name='toolbar' value='yes' /><param name='static_image' value='https:&#47;&#47;public.tableau.com&#47;static&#47;images&#47;Fi&#47;Final_Coach&#47;Sheet1&#47;1.png' /> <param name='animate_transition' value='yes' /><param name='display_static_image' value='yes' /><param name='display_spinner' value='yes' /><param name='display_overlay' value='yes' /><param name='display_count' value='yes' /><param name='filter' value='publish=yes' /></object></div>                <script type='text/javascript'>                    var divElement = document.getElementById('viz1587935369211');                    var vizElement = divElement.getElementsByTagName('object')[0];                    vizElement.style.width='100%';vizElement.style.height=(divElement.offsetWidth*0.75)+'px';                    var scriptElement = document.createElement('script');                    scriptElement.src = 'https://public.tableau.com/javascripts/api/viz_v1.js';                    vizElement.parentNode.insertBefore(scriptElement, vizElement);                </script>\")\n",
        "IPython.display.HTML(\"<div class='tableauPlaceholder' id='viz1587935520751' style='position: relative'><noscript><a href='#'><img alt=' ' src='https:&#47;&#47;public.tableau.com&#47;static&#47;images&#47;Fi&#47;Final_QB&#47;Sheet1&#47;1_rss.png' style='border: none' /></a></noscript><object class='tableauViz'  style='display:none;'><param name='host_url' value='https%3A%2F%2Fpublic.tableau.com%2F' /> <param name='embed_code_version' value='3' /> <param name='site_root' value='' /><param name='name' value='Final_QB&#47;Sheet1' /><param name='tabs' value='no' /><param name='toolbar' value='yes' /><param name='static_image' value='https:&#47;&#47;public.tableau.com&#47;static&#47;images&#47;Fi&#47;Final_QB&#47;Sheet1&#47;1.png' /> <param name='animate_transition' value='yes' /><param name='display_static_image' value='yes' /><param name='display_spinner' value='yes' /><param name='display_overlay' value='yes' /><param name='display_count' value='yes' /><param name='filter' value='publish=yes' /></object></div>                <script type='text/javascript'>                    var divElement = document.getElementById('viz1587935520751');                    var vizElement = divElement.getElementsByTagName('object')[0];                    vizElement.style.width='100%';vizElement.style.height=(divElement.offsetWidth*0.75)+'px';                    var scriptElement = document.createElement('script');                    scriptElement.src = 'https://public.tableau.com/javascripts/api/viz_v1.js';                    vizElement.parentNode.insertBefore(scriptElement, vizElement);                </script>\") # can't find image "
      ],
      "execution_count": 0,
      "outputs": [
        {
          "output_type": "execute_result",
          "data": {
            "text/html": [
              "<div class='tableauPlaceholder' id='viz1580399076918' style='position: relative;width:800px;height:800px;'><noscript><a href='#'><img alt=' ' src='https:&#47;&#47;public.tableau.com&#47;static&#47;images&#47;Wa&#47;WarmestDecember&#47;Story1&#47;1_rss.png' style='border: none' /></a></noscript><object class='tableauViz'  style='display:none;'><param name='host_url' value='https%3A%2F%2Fpublic.tableau.com%2F' /> <param name='embed_code_version' value='3' /> <param name='site_root' value='' /><param name='name' value='WarmestDecember&#47;Story1' /><param name='tabs' value='no' /><param name='toolbar' value='yes' /><param name='static_image' value='https:&#47;&#47;public.tableau.com&#47;static&#47;images&#47;Wa&#47;WarmestDecember&#47;Story1&#47;1.png' /> <param name='animate_transition' value='yes' /><param name='display_static_image' value='yes' /><param name='display_spinner' value='yes' /><param name='display_overlay' value='yes' /><param name='display_count' value='yes' /><param name='filter' value='publish=yes' /></object></div>                <script type='text/javascript'>                    var divElement = document.getElementById('viz1580399076918');                    var vizElement = divElement.getElementsByTagName('object')[0];                    vizElement.style.width='800px';vizElement.style.height='627px';                    var scriptElement = document.createElement('script');                    scriptElement.src = 'https://public.tableau.com/javascripts/api/viz_v1.js';                    vizElement.parentNode.insertBefore(scriptElement, vizElement);                </script>"
            ],
            "text/plain": [
              "<IPython.core.display.HTML object>"
            ]
          },
          "metadata": {
            "tags": []
          },
          "execution_count": 1
        }
      ]
    },
    {
      "cell_type": "markdown",
      "metadata": {
        "id": "SvWfnlDjnos1",
        "colab_type": "text"
      },
      "source": [
        "## Conclusion"
      ]
    },
    {
      "cell_type": "markdown",
      "metadata": {
        "id": "rfWefr2gnxOG",
        "colab_type": "text"
      },
      "source": [
        "insert project idea here 500 words (6)"
      ]
    },
    {
      "cell_type": "code",
      "metadata": {
        "id": "GiYDwrUYn0k0",
        "colab_type": "code",
        "colab": {}
      },
      "source": [
        ""
      ],
      "execution_count": 0,
      "outputs": []
    }
  ]
}